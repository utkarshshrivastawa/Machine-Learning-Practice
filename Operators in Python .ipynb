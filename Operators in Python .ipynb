{
 "cells": [
  {
   "cell_type": "markdown",
   "id": "e40dd017",
   "metadata": {},
   "source": [
    "Operators in Python \n",
    "\n",
    "1. Arithmetic Operators :Perform mathematical operations like addition, subtraction, multiplication.\n",
    "2. Assignment Operators :Assign values, can include addition, subtraction, multiplication, etc.\n",
    "3. Comparison Operators :Compare values, return boolean results like True or False.\n",
    "4. Logical    Operators :Combine conditions, return boolean results based on logical operations.\n",
    "5. Identity   Operators :Check if objects are the same.\n",
    "6. Membership Operators :Membership Operators: Check if a value exists in a sequence."
   ]
  },
  {
   "cell_type": "markdown",
   "id": "ffcbdb5f",
   "metadata": {},
   "source": [
    "#### Arithmetic Operators\n",
    "\n",
    "1. Addition (+) : Combines values or variables, returns their sum.\n",
    "2. Subtraction (-) :  Finds the difference between values or variables.\n",
    "3. Multiplication (*) :Repeats addition, returns the product of values.\n",
    "4. Division (/) : Divides one value by another, returns quotient.\n",
    "5. Modulus (%) : Returns the remainder after division.\n",
    "6. Exponentiation (**) : Raises a value to a power.\n",
    "7. Floor Division (//) :Returns the quotient, discards the fractional part."
   ]
  },
  {
   "cell_type": "code",
   "execution_count": 5,
   "id": "f1f10c0a",
   "metadata": {},
   "outputs": [
    {
     "name": "stdout",
     "output_type": "stream",
     "text": [
      "8\n",
      "4\n",
      "12\n",
      "3.0\n",
      "3\n",
      "36\n",
      "0\n"
     ]
    }
   ],
   "source": [
    "a = 2\n",
    "b = 6\n",
    "print(a+b) # Addition\n",
    "print(b-a) # Subtracton\n",
    "print(a*b) #Multiplication\n",
    "print(b/a) # Division\n",
    "print(b//a) # Floor Division\n",
    "print(b**a) # Exponentiation\n",
    "print(b%a)   # Modulus"
   ]
  },
  {
   "cell_type": "markdown",
   "id": "b41927ea",
   "metadata": {},
   "source": [
    "#### Assignment Operators\n",
    "1. Assignment (=) : Assigns a value to a variable.\n",
    "2. Addition Assignment (+=) : Adds and assigns the result to the variable.\n",
    "3. Subtraction Assignment (-=) : Subtracts and assigns the result to the variable.\n",
    "4. Multiplication Assignment (*=) : Multiplies and assigns the result to the variable.\n",
    "5. Division Assignment (/=) : Divides and assigns the result to the variable.\n",
    "6. Modulus Assignment (%=) : Computes modulus and assigns the result.\n",
    "7. Exponentiation Assignment (**=) : Raises to a power and assigns.\n",
    "8. Floor Division Assignment (//=) :  Divides and assigns the floor value."
   ]
  },
  {
   "cell_type": "code",
   "execution_count": 7,
   "id": "ac57e183",
   "metadata": {},
   "outputs": [
    {
     "name": "stdout",
     "output_type": "stream",
     "text": [
      "5\n",
      "10\n",
      "5\n",
      "25\n",
      "5.0\n",
      "0.0\n",
      "0.0\n",
      "0.0\n"
     ]
    }
   ],
   "source": [
    "a= 5 \n",
    "print(a) # Assignment \n",
    "a+= 5\n",
    "print(a) # Addition Assignment\n",
    "a -=5\n",
    "print(a) # Subtraction Assignment\n",
    "a*=5\n",
    "print(a) # Multiplication Assignment\n",
    "a/=5\n",
    "print(a) # Division Assignment \n",
    "a%=5\n",
    "print(a) # Modulus Assignment \n",
    "a**=5\n",
    "print(a) # Exponentiation Assignment\n",
    "a//=5\n",
    "print(a) # Floor Division Assignment"
   ]
  },
  {
   "cell_type": "markdown",
   "id": "cfc6fbf2",
   "metadata": {},
   "source": [
    "#### Comparison Operators \n",
    "\n",
    "1. Equal to (==) :Checks if two values are equal.\n",
    "2. Not equal to (!=) :  Checks if two values are not equal.\n",
    "3. Greater than (>) : Checks if one value is greater than another.\n",
    "4. Less than (<) : Checks if one value is less than another\n",
    "5. Greater than or equal to (>=) : Checks if one value is greater than or equal to another.\n",
    "6. Less than or equal to (<=) : Checks if one value is less than or equal to another."
   ]
  },
  {
   "cell_type": "code",
   "execution_count": 9,
   "id": "8589de8f",
   "metadata": {},
   "outputs": [
    {
     "name": "stdout",
     "output_type": "stream",
     "text": [
      "False\n",
      "True\n",
      "False\n",
      "True\n",
      "False\n",
      "True\n"
     ]
    }
   ],
   "source": [
    "a = 5 \n",
    "b = 10 \n",
    "\n",
    "print(a==b) # Equal to \n",
    "print(a!=b) # Not equal to\n",
    "print(a>b)  # Greater than \n",
    "print(a<b)  # Less than\n",
    "print(a>=b) # Greater than or equal to\n",
    "print(a<=b) # Less than or equal to "
   ]
  },
  {
   "cell_type": "markdown",
   "id": "682038ea",
   "metadata": {},
   "source": [
    "#### Logical Operators \n",
    "\n",
    "1. AND (and) : Returns True if both conditions are true.\n",
    "2. OR (or)   : Returns True if at least one condition is true.\n",
    "3. NOT (not) : Returns the opposite boolean value of the operand."
   ]
  },
  {
   "cell_type": "code",
   "execution_count": 13,
   "id": "3368deb7",
   "metadata": {},
   "outputs": [
    {
     "name": "stdout",
     "output_type": "stream",
     "text": [
      "True\n",
      "True\n",
      "False\n"
     ]
    }
   ],
   "source": [
    "a = 5 \n",
    "b = 8 \n",
    "print(a<=b and b>=a)\n",
    "print(a<=b or b<=a)\n",
    "print(not(a<=b and b>=a))"
   ]
  },
  {
   "cell_type": "markdown",
   "id": "f2775a13",
   "metadata": {},
   "source": [
    "#### Identity Operators \n",
    "\n",
    "1. is : Returns True if both operands reference the same object.\n",
    "2. is not :  Returns True if operands reference different object"
   ]
  },
  {
   "cell_type": "code",
   "execution_count": 14,
   "id": "9f69aa7b",
   "metadata": {},
   "outputs": [
    {
     "name": "stdout",
     "output_type": "stream",
     "text": [
      "True\n",
      "True\n"
     ]
    }
   ],
   "source": [
    "a = 5 \n",
    "b = 5 \n",
    "c = 8\n",
    "print(a is b)\n",
    "print(a is not c )"
   ]
  },
  {
   "cell_type": "markdown",
   "id": "f41db921",
   "metadata": {},
   "source": [
    "#### Membership Operators\n",
    "\n",
    "1. in : Returns True if a value exists in a sequence.\n",
    "2. not in :Returns True if a value does not exist in a sequence."
   ]
  },
  {
   "cell_type": "code",
   "execution_count": null,
   "id": "38c42a76",
   "metadata": {},
   "outputs": [],
   "source": [
    "a = 5 \n",
    "b = 25\n",
    "c = [1,2,5,8,]"
   ]
  }
 ],
 "metadata": {
  "kernelspec": {
   "display_name": "Python 3 (ipykernel)",
   "language": "python",
   "name": "python3"
  },
  "language_info": {
   "codemirror_mode": {
    "name": "ipython",
    "version": 3
   },
   "file_extension": ".py",
   "mimetype": "text/x-python",
   "name": "python",
   "nbconvert_exporter": "python",
   "pygments_lexer": "ipython3",
   "version": "3.11.5"
  }
 },
 "nbformat": 4,
 "nbformat_minor": 5
}
