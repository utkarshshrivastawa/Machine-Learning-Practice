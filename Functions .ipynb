{
 "cells": [
  {
   "cell_type": "markdown",
   "id": "05e7e297",
   "metadata": {},
   "source": [
    "### Function\n",
    "A function is a block of code that performs a specific task and can be reused in a Program"
   ]
  },
  {
   "cell_type": "code",
   "execution_count": 4,
   "id": "27b48351",
   "metadata": {},
   "outputs": [
    {
     "name": "stdout",
     "output_type": "stream",
     "text": [
      "Enter the number for finding its factorials : 5\n",
      "The factorial of  5 is 120\n"
     ]
    }
   ],
   "source": [
    "number = int(input(\"Enter the number for finding its factorials : \"))\n",
    "factorial = 1\n",
    "if number == 0 :\n",
    "    print(\"The factorial is o is 1\")\n",
    "else : \n",
    "    for i in range(1,number+1):   # range(1 , 6) included value is 1,2,3,4,5\n",
    "        factorial = factorial*i\n",
    "    print('The factorial of ',number ,'is', factorial)"
   ]
  },
  {
   "cell_type": "markdown",
   "id": "cc8799ce-4e24-4e54-9392-6c604ea5cd9b",
   "metadata": {},
   "source": [
    "####  Creating A function"
   ]
  },
  {
   "cell_type": "code",
   "execution_count": 6,
   "id": "4d8ea0aa-e32b-4e5c-9971-95d7c22ee11f",
   "metadata": {},
   "outputs": [],
   "source": [
    "def factorial_value(num):\n",
    "    factorial = 1\n",
    "    if num == 0:\n",
    "        return factorial\n",
    "    else:\n",
    "      for i in range(1,num+1):   \n",
    "        factorial = factorial*i\n",
    "    return factorial"
   ]
  },
  {
   "cell_type": "code",
   "execution_count": 7,
   "id": "11e24815-cb4d-479e-8d53-15ecf9c75b6d",
   "metadata": {},
   "outputs": [
    {
     "name": "stdout",
     "output_type": "stream",
     "text": [
      "120\n"
     ]
    }
   ],
   "source": [
    "print(factorial_value(5))"
   ]
  },
  {
   "cell_type": "code",
   "execution_count": 8,
   "id": "bddb2dd9-13c7-46a4-87dc-2f7fbaefabe9",
   "metadata": {},
   "outputs": [
    {
     "name": "stdout",
     "output_type": "stream",
     "text": [
      "3628800\n"
     ]
    }
   ],
   "source": [
    "print(factorial_value(10))"
   ]
  },
  {
   "cell_type": "code",
   "execution_count": null,
   "id": "80f4a18c-a271-4af6-bf3d-b99c1312384b",
   "metadata": {},
   "outputs": [],
   "source": []
  },
  {
   "cell_type": "code",
   "execution_count": null,
   "id": "27aaddc8-e43c-423a-b3e0-bcbe88226e90",
   "metadata": {},
   "outputs": [],
   "source": []
  }
 ],
 "metadata": {
  "kernelspec": {
   "display_name": "Python 3 (ipykernel)",
   "language": "python",
   "name": "python3"
  },
  "language_info": {
   "codemirror_mode": {
    "name": "ipython",
    "version": 3
   },
   "file_extension": ".py",
   "mimetype": "text/x-python",
   "name": "python",
   "nbconvert_exporter": "python",
   "pygments_lexer": "ipython3",
   "version": "3.12.2"
  }
 },
 "nbformat": 4,
 "nbformat_minor": 5
}
