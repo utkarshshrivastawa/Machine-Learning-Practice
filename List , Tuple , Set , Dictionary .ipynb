{
 "cells": [
  {
   "cell_type": "markdown",
   "id": "44048753",
   "metadata": {},
   "source": [
    "Types of Objects in Python : \n",
    "1. Immutable Objects :Cannot be changed after creation.\n",
    "\n",
    "_________________________________________________________________________\n",
    "1. int \n",
    "2. float\n",
    "3. string\n",
    "4. bool \n",
    "5. tuple \n",
    "_________________________________________________________________________\n",
    "2. Mutable Objects :Can be changed after creation.\n",
    "_________________________________________________________________________\n",
    "1. List \n",
    "2. Set \n",
    "3. Dictionary "
   ]
  },
  {
   "cell_type": "markdown",
   "id": "0a8388e3",
   "metadata": {},
   "source": [
    "#### List \n",
    "1. Ordered, mutable collection of elements.\n",
    "2. It should be included in the square brackets Representation : [  ]\n",
    "3. It can have multipe data types . \n",
    "4. It allow duplicate or repeted values\n"
   ]
  },
  {
   "cell_type": "code",
   "execution_count": 2,
   "id": "91b51f75",
   "metadata": {},
   "outputs": [
    {
     "data": {
      "text/plain": [
       "[1, 2, 3, 4, 5, 6, 7, 8, 9]"
      ]
     },
     "execution_count": 2,
     "metadata": {},
     "output_type": "execute_result"
    }
   ],
   "source": [
    "a = [1,2,3,4,5,6,7,8,9]\n",
    "a"
   ]
  },
  {
   "cell_type": "code",
   "execution_count": 3,
   "id": "fb326062",
   "metadata": {},
   "outputs": [
    {
     "data": {
      "text/plain": [
       "list"
      ]
     },
     "execution_count": 3,
     "metadata": {},
     "output_type": "execute_result"
    }
   ],
   "source": [
    "type(a)"
   ]
  },
  {
   "cell_type": "code",
   "execution_count": 4,
   "id": "5e47f615",
   "metadata": {},
   "outputs": [
    {
     "data": {
      "text/plain": [
       "[1, 2, 3, 'hi', True]"
      ]
     },
     "execution_count": 4,
     "metadata": {},
     "output_type": "execute_result"
    }
   ],
   "source": [
    "b = [ 1,2,3,'hi', True]\n",
    "b"
   ]
  },
  {
   "cell_type": "code",
   "execution_count": 5,
   "id": "400151e4",
   "metadata": {},
   "outputs": [],
   "source": [
    "b.append(6) #append() is a method in Python used to add a new element to the end of a list"
   ]
  },
  {
   "cell_type": "code",
   "execution_count": 6,
   "id": "e3a345e4",
   "metadata": {},
   "outputs": [
    {
     "data": {
      "text/plain": [
       "[1, 2, 3, 'hi', True, 6]"
      ]
     },
     "execution_count": 6,
     "metadata": {},
     "output_type": "execute_result"
    }
   ],
   "source": [
    "b\n"
   ]
  },
  {
   "cell_type": "code",
   "execution_count": 7,
   "id": "dd532b41",
   "metadata": {},
   "outputs": [
    {
     "name": "stdout",
     "output_type": "stream",
     "text": [
      "[3, 'hi', True]\n"
     ]
    }
   ],
   "source": [
    "# print element by their index\n",
    "print(b[2:5])"
   ]
  },
  {
   "cell_type": "code",
   "execution_count": 8,
   "id": "0038fc02",
   "metadata": {},
   "outputs": [
    {
     "name": "stdout",
     "output_type": "stream",
     "text": [
      "3\n"
     ]
    }
   ],
   "source": [
    "print(a[2])"
   ]
  },
  {
   "cell_type": "code",
   "execution_count": 9,
   "id": "2709c950",
   "metadata": {},
   "outputs": [
    {
     "data": {
      "text/plain": [
       "[1, 1, 2, 2, 3, 4, 5]"
      ]
     },
     "execution_count": 9,
     "metadata": {},
     "output_type": "execute_result"
    }
   ],
   "source": [
    "# list allow duplicate values \n",
    "c = [1,1,2,2,3,4,5]\n",
    "c"
   ]
  },
  {
   "cell_type": "code",
   "execution_count": 10,
   "id": "2d7be502",
   "metadata": {},
   "outputs": [
    {
     "name": "stdout",
     "output_type": "stream",
     "text": [
      "7\n"
     ]
    }
   ],
   "source": [
    "print(len(c)) # len is used for checking the size of list"
   ]
  },
  {
   "cell_type": "code",
   "execution_count": 11,
   "id": "25fbbbd4",
   "metadata": {},
   "outputs": [
    {
     "data": {
      "text/plain": [
       "[5]"
      ]
     },
     "execution_count": 11,
     "metadata": {},
     "output_type": "execute_result"
    }
   ],
   "source": [
    "# initiating an empty list \n",
    "d = []\n",
    "d.append(5) # after creating empty list and adding values one by one \n",
    "d"
   ]
  },
  {
   "cell_type": "code",
   "execution_count": 12,
   "id": "190c57ce",
   "metadata": {
    "scrolled": true
   },
   "outputs": [
    {
     "name": "stdout",
     "output_type": "stream",
     "text": [
      "9\n",
      "[1, 2, 3, 4, 5, 6, 7, 8, 9]\n",
      "[1, 2, 3, 4, 5, 7, 8, 9]\n"
     ]
    }
   ],
   "source": [
    "# delete the element from a list \n",
    "print(len(a))\n",
    "print(a)\n",
    "del a[5]\n",
    "print(a)"
   ]
  },
  {
   "cell_type": "code",
   "execution_count": 13,
   "id": "7279cad2",
   "metadata": {},
   "outputs": [
    {
     "name": "stdout",
     "output_type": "stream",
     "text": [
      "[1, 2, 3, 4, 5, 7, 8, 9, 1, 2, 3, 'hi', True, 6]\n"
     ]
    }
   ],
   "source": [
    "# join two list \n",
    "e = a+b \n",
    "print(e ) # it will concat the two list "
   ]
  },
  {
   "cell_type": "markdown",
   "id": "02fbc5d2",
   "metadata": {},
   "source": [
    "#### Tuple \n",
    "1. A tuple in Python is an ordered, immutable collection of elements.\n",
    "2. It should be included in the parentheses or round brackets . Representation : ( )\n",
    "3. It also allow multipe data types ."
   ]
  },
  {
   "cell_type": "code",
   "execution_count": 14,
   "id": "19729115",
   "metadata": {},
   "outputs": [],
   "source": [
    "a = (1,2,3,4,5,6)"
   ]
  },
  {
   "cell_type": "code",
   "execution_count": 15,
   "id": "4b35c178",
   "metadata": {},
   "outputs": [
    {
     "data": {
      "text/plain": [
       "(1, 2, 3, 4, 5, 6)"
      ]
     },
     "execution_count": 15,
     "metadata": {},
     "output_type": "execute_result"
    }
   ],
   "source": [
    "a"
   ]
  },
  {
   "cell_type": "code",
   "execution_count": 16,
   "id": "efe24cab",
   "metadata": {},
   "outputs": [
    {
     "data": {
      "text/plain": [
       "tuple"
      ]
     },
     "execution_count": 16,
     "metadata": {},
     "output_type": "execute_result"
    }
   ],
   "source": [
    "type(a)"
   ]
  },
  {
   "cell_type": "code",
   "execution_count": 17,
   "id": "91586d8e",
   "metadata": {},
   "outputs": [
    {
     "name": "stdout",
     "output_type": "stream",
     "text": [
      "(1, 2, 3, 4, 5, 6)\n"
     ]
    }
   ],
   "source": [
    "# Conterting list into a tuple\n",
    "f = tuple(a) # tuple() is used to convert list into a tuple \n",
    "print(f)"
   ]
  },
  {
   "cell_type": "markdown",
   "id": "01a5e8af",
   "metadata": {},
   "source": [
    "#### Set \n",
    "1. Unordered, mutable collection of unique elements.\n",
    "2. It should be included in the Curly brackets . Representation : { }\n",
    "3. It do not allow duplicate or repeted values.\n",
    "4. It Does not support indexing .\n",
    "5. Union :Combines unique elements from both sets. x.union(y)\n",
    "6. Intersection: Retrieves common elements between two sets. x.intersection(y)"
   ]
  },
  {
   "cell_type": "code",
   "execution_count": 18,
   "id": "ad7b5fef",
   "metadata": {},
   "outputs": [
    {
     "name": "stdout",
     "output_type": "stream",
     "text": [
      "{1, 2, 3, 4, 5, 6, 7, 8}\n",
      "<class 'set'>\n",
      "8\n"
     ]
    }
   ],
   "source": [
    "a = {1,2,3,4,5,6,7,8}\n",
    "print(a) \n",
    "print(type(a))\n",
    "print(len(a))"
   ]
  },
  {
   "cell_type": "code",
   "execution_count": 19,
   "id": "dfa5c5dd",
   "metadata": {},
   "outputs": [
    {
     "name": "stdout",
     "output_type": "stream",
     "text": [
      "{1, 2, 3, 4, 5, 6, 7, 8, 9, 10, 11}\n"
     ]
    }
   ],
   "source": [
    "b = {5,6,7,8,9,10,11}\n",
    "print(a.union(b)) "
   ]
  },
  {
   "cell_type": "code",
   "execution_count": 20,
   "id": "58a1b44b",
   "metadata": {},
   "outputs": [
    {
     "name": "stdout",
     "output_type": "stream",
     "text": [
      "{8, 5, 6, 7}\n"
     ]
    }
   ],
   "source": [
    "print(a.intersection(b))"
   ]
  },
  {
   "cell_type": "code",
   "execution_count": 22,
   "id": "348d17cf",
   "metadata": {},
   "outputs": [
    {
     "name": "stdout",
     "output_type": "stream",
     "text": [
      "{1, 2, 5, 7, 8}\n"
     ]
    }
   ],
   "source": [
    "c = [1,2,5,8,7,7,8]\n",
    "d = set(c) # set() is used to convert list into a set\n",
    "print(d)"
   ]
  },
  {
   "cell_type": "markdown",
   "id": "e3919e54",
   "metadata": {},
   "source": [
    "#### Dictionary \n",
    "1.  Mutable collection of key-value pairs.\n",
    "2.  Created with curly braces or dict() constructor.\n",
    "3.  { key : Value }\n",
    "4.  It do not allow duplicate or repeted values.\n"
   ]
  },
  {
   "cell_type": "code",
   "execution_count": 31,
   "id": "d65348e7",
   "metadata": {},
   "outputs": [
    {
     "name": "stdout",
     "output_type": "stream",
     "text": [
      "{1: 'hi', 2: 'hello'}\n"
     ]
    },
    {
     "data": {
      "text/plain": [
       "dict"
      ]
     },
     "execution_count": 31,
     "metadata": {},
     "output_type": "execute_result"
    }
   ],
   "source": [
    "a = {1 : 'hi',2:'hello'}\n",
    "print(a)\n",
    "type(a)"
   ]
  },
  {
   "cell_type": "code",
   "execution_count": 25,
   "id": "809a3ae5",
   "metadata": {},
   "outputs": [
    {
     "name": "stdout",
     "output_type": "stream",
     "text": [
      "hi\n"
     ]
    }
   ],
   "source": [
    "print(a[1])"
   ]
  },
  {
   "cell_type": "code",
   "execution_count": 30,
   "id": "79a6ded3",
   "metadata": {},
   "outputs": [
    {
     "name": "stdout",
     "output_type": "stream",
     "text": [
      "hello\n"
     ]
    }
   ],
   "source": [
    "print(a[2])"
   ]
  },
  {
   "cell_type": "code",
   "execution_count": 32,
   "id": "4586af88",
   "metadata": {},
   "outputs": [
    {
     "name": "stdout",
     "output_type": "stream",
     "text": [
      "3\n"
     ]
    }
   ],
   "source": [
    "a = {1 : 'hi',2:'hello',1 : 'hi',2:'hello',3 : 'Good Morning'}\n",
    "print(len(a))"
   ]
  },
  {
   "cell_type": "code",
   "execution_count": 33,
   "id": "1c784838",
   "metadata": {},
   "outputs": [
    {
     "name": "stdout",
     "output_type": "stream",
     "text": [
      "{1: 'hi', 2: 'hello', 3: 'Good Morning'}\n"
     ]
    }
   ],
   "source": [
    "print(a) # it does not allow duplicate values"
   ]
  },
  {
   "cell_type": "code",
   "execution_count": null,
   "id": "68db62e4",
   "metadata": {},
   "outputs": [],
   "source": []
  }
 ],
 "metadata": {
  "kernelspec": {
   "display_name": "Python 3 (ipykernel)",
   "language": "python",
   "name": "python3"
  },
  "language_info": {
   "codemirror_mode": {
    "name": "ipython",
    "version": 3
   },
   "file_extension": ".py",
   "mimetype": "text/x-python",
   "name": "python",
   "nbconvert_exporter": "python",
   "pygments_lexer": "ipython3",
   "version": "3.11.5"
  }
 },
 "nbformat": 4,
 "nbformat_minor": 5
}
