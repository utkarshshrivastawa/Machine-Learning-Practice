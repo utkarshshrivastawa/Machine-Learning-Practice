{
 "cells": [
  {
   "cell_type": "markdown",
   "id": "1e2add09-4e78-44b1-8fdf-d2a5c71528c4",
   "metadata": {},
   "source": [
    "### NumPy - Numerical Python \n",
    "\n",
    "1. Python library for efficient numerical computations.\n",
    "2. Supports large, multidimensional arrays and matrices.\n",
    "3. Offers extensive mathematical functions library.\n",
    "\n",
    "#### Advantages of Numpy Arrays :\n",
    "1. Allows several Mathematical Operations\n",
    "2. Faster operations"
   ]
  },
  {
   "cell_type": "code",
   "execution_count": 2,
   "id": "d845bdae-dcfa-4d4a-bc3a-0ab1bbe29993",
   "metadata": {},
   "outputs": [],
   "source": [
    "import numpy as np "
   ]
  },
  {
   "cell_type": "markdown",
   "id": "aeceab36-dcd2-405d-9780-480c0e894bd7",
   "metadata": {},
   "source": [
    "#### List VS Numpy - Time Taken"
   ]
  },
  {
   "cell_type": "code",
   "execution_count": 3,
   "id": "3ba05ba3-31f3-49fd-b8c2-f7692e16c675",
   "metadata": {},
   "outputs": [],
   "source": [
    "from time import process_time"
   ]
  },
  {
   "cell_type": "markdown",
   "id": "73aceb13-c2d8-4911-9401-2e6c4ffa0f4e",
   "metadata": {},
   "source": [
    "Time taken by a list"
   ]
  },
  {
   "cell_type": "code",
   "execution_count": 4,
   "id": "84193ebf-c49b-4387-b0b2-1de89c382272",
   "metadata": {},
   "outputs": [
    {
     "name": "stdout",
     "output_type": "stream",
     "text": [
      "0.0625\n"
     ]
    }
   ],
   "source": [
    "a_list = [i for i in range(1000000)]\n",
    "start_time = process_time()\n",
    "a_list = [i+5 for i in a_list]\n",
    "end_time = process_time()\n",
    "print(end_time - start_time)"
   ]
  },
  {
   "cell_type": "code",
   "execution_count": 5,
   "id": "7c3d01ad-8213-4566-aea2-f9aceddd382f",
   "metadata": {},
   "outputs": [
    {
     "name": "stdout",
     "output_type": "stream",
     "text": [
      "0.0\n"
     ]
    }
   ],
   "source": [
    "np_array = np.array([i for i in range(1000000)])\n",
    "start_time = process_time()\n",
    "np_array += 5 \n",
    "end_time = process_time()\n",
    "print(end_time - start_time)"
   ]
  },
  {
   "cell_type": "markdown",
   "id": "5eba6bf3-a48d-4a8e-b98c-3baa3ed03d54",
   "metadata": {},
   "source": [
    "#### Numpy Arrays"
   ]
  },
  {
   "cell_type": "code",
   "execution_count": 6,
   "id": "1a124bdd-8d3f-4b53-a10d-9d06753e5c98",
   "metadata": {},
   "outputs": [
    {
     "name": "stdout",
     "output_type": "stream",
     "text": [
      "[1, 2, 3, 4, 5]\n"
     ]
    },
    {
     "data": {
      "text/plain": [
       "list"
      ]
     },
     "execution_count": 6,
     "metadata": {},
     "output_type": "execute_result"
    }
   ],
   "source": [
    "a = [1,2,3,4,5]\n",
    "print(a)\n",
    "type(a)"
   ]
  },
  {
   "cell_type": "code",
   "execution_count": 7,
   "id": "12f2a0c5-8345-4d9b-95da-86cade143406",
   "metadata": {},
   "outputs": [
    {
     "name": "stdout",
     "output_type": "stream",
     "text": [
      "[1 2 3 4 5]\n"
     ]
    },
    {
     "data": {
      "text/plain": [
       "numpy.ndarray"
      ]
     },
     "execution_count": 7,
     "metadata": {},
     "output_type": "execute_result"
    }
   ],
   "source": [
    "np_array = np.array([1,2,3,4,5])\n",
    "print(np_array)\n",
    "type(np_array)"
   ]
  },
  {
   "cell_type": "code",
   "execution_count": 8,
   "id": "eaaafb70-6e8b-4c77-8cd1-56424341550f",
   "metadata": {},
   "outputs": [
    {
     "name": "stdout",
     "output_type": "stream",
     "text": [
      "[1 2 3 4]\n"
     ]
    }
   ],
   "source": [
    "# creating a 1 dim array \n",
    "a = np.array([1,2,3,4])\n",
    "print(a)"
   ]
  },
  {
   "cell_type": "code",
   "execution_count": 9,
   "id": "1adaf93e-9394-486a-a416-6743ad8be23d",
   "metadata": {},
   "outputs": [
    {
     "data": {
      "text/plain": [
       "(4,)"
      ]
     },
     "execution_count": 9,
     "metadata": {},
     "output_type": "execute_result"
    }
   ],
   "source": [
    "a.shape  #  it will giive the number of rows and columns in the array"
   ]
  },
  {
   "cell_type": "code",
   "execution_count": 10,
   "id": "3fe7c1e5-663e-4e04-a485-db8c5cb3d9bb",
   "metadata": {},
   "outputs": [
    {
     "name": "stdout",
     "output_type": "stream",
     "text": [
      "[[1 2 3 4]\n",
      " [5 6 7 8]]\n"
     ]
    }
   ],
   "source": [
    "# creating 2d array \n",
    "b = np.array([(1,2,3,4),(5,6,7,8)])\n",
    "print(b)"
   ]
  },
  {
   "cell_type": "code",
   "execution_count": 11,
   "id": "cc5ec7fb-88be-468f-93f7-aac62177deb2",
   "metadata": {},
   "outputs": [
    {
     "data": {
      "text/plain": [
       "(2, 4)"
      ]
     },
     "execution_count": 11,
     "metadata": {},
     "output_type": "execute_result"
    }
   ],
   "source": [
    "b.shape"
   ]
  },
  {
   "cell_type": "code",
   "execution_count": 12,
   "id": "8ed3a45a-e77e-46ea-900d-14d82d0d730e",
   "metadata": {},
   "outputs": [
    {
     "name": "stdout",
     "output_type": "stream",
     "text": [
      "[[1. 2. 3. 4.]\n",
      " [5. 6. 7. 8.]]\n"
     ]
    }
   ],
   "source": [
    "c = np.array([(1,2,3,4),(5,6,7,8)],dtype = float) # Changing the type of array\n",
    "print(c)"
   ]
  },
  {
   "cell_type": "markdown",
   "id": "e3de9dec-b0e5-4833-9215-545a66ef5cb5",
   "metadata": {},
   "source": [
    "##### Placeholder in numpy array"
   ]
  },
  {
   "cell_type": "code",
   "execution_count": 13,
   "id": "2fe14978-6e6e-4f83-9fb9-dabc0b712bb9",
   "metadata": {},
   "outputs": [
    {
     "name": "stdout",
     "output_type": "stream",
     "text": [
      "[[0. 0. 0. 0. 0.]\n",
      " [0. 0. 0. 0. 0.]\n",
      " [0. 0. 0. 0. 0.]\n",
      " [0. 0. 0. 0. 0.]]\n"
     ]
    }
   ],
   "source": [
    "# create a numpy array of Zeros\n",
    "x = np.zeros((4,5)) # np.zeros is used for creating null values array\n",
    "print(x)"
   ]
  },
  {
   "cell_type": "code",
   "execution_count": 14,
   "id": "51d2e50f-cc5b-40c7-844f-5cc126f94271",
   "metadata": {},
   "outputs": [
    {
     "name": "stdout",
     "output_type": "stream",
     "text": [
      "[[1. 1. 1. 1. 1.]\n",
      " [1. 1. 1. 1. 1.]\n",
      " [1. 1. 1. 1. 1.]\n",
      " [1. 1. 1. 1. 1.]\n",
      " [1. 1. 1. 1. 1.]]\n"
     ]
    }
   ],
   "source": [
    "# crate a nuupy array for all values as one \n",
    "y = np.ones((5,5)) # np.ones is used for creating the all values as one \n",
    "print(y)"
   ]
  },
  {
   "cell_type": "code",
   "execution_count": 15,
   "id": "28c77ee8-4cd8-4ade-9905-f103efeb9b30",
   "metadata": {},
   "outputs": [
    {
     "name": "stdout",
     "output_type": "stream",
     "text": [
      "[[5 5 5 5]\n",
      " [5 5 5 5]\n",
      " [5 5 5 5]\n",
      " [5 5 5 5]\n",
      " [5 5 5 5]]\n"
     ]
    }
   ],
   "source": [
    "# create a array of particular values \n",
    "z = np.full((5,4),5) # np.full is used for creating the array of particular values ((dimensions),values )\n",
    "print(z)"
   ]
  },
  {
   "cell_type": "code",
   "execution_count": 16,
   "id": "8cce6df8-a075-44aa-8919-fe918cbbb314",
   "metadata": {},
   "outputs": [
    {
     "name": "stdout",
     "output_type": "stream",
     "text": [
      "[[1. 0. 0. 0. 0.]\n",
      " [0. 1. 0. 0. 0.]\n",
      " [0. 0. 1. 0. 0.]\n",
      " [0. 0. 0. 1. 0.]\n",
      " [0. 0. 0. 0. 1.]]\n"
     ]
    }
   ],
   "source": [
    "# create an identity matrix \n",
    "a = np.eye(5)  # np.eye is used for creating the identity matrix \n",
    "print(a)"
   ]
  },
  {
   "cell_type": "code",
   "execution_count": 17,
   "id": "aee8251e-b4d3-4e44-894d-b61aea49c589",
   "metadata": {},
   "outputs": [
    {
     "name": "stdout",
     "output_type": "stream",
     "text": [
      "[[0.7070173  0.20415151 0.08085998 0.73699123]\n",
      " [0.50402881 0.25036438 0.7026153  0.11909693]\n",
      " [0.48813136 0.33600719 0.38224303 0.37883951]]\n"
     ]
    }
   ],
   "source": [
    "# create a numpy array with random values \n",
    "b = np.random.random((3,4)) # np.random.random is used and values between 0 and 1\n",
    "print(b)"
   ]
  },
  {
   "cell_type": "code",
   "execution_count": 18,
   "id": "25eecd66-6e12-4d25-a13b-bf9b2ac88806",
   "metadata": {},
   "outputs": [
    {
     "name": "stdout",
     "output_type": "stream",
     "text": [
      "[[10 17 25 69 48]\n",
      " [51 18 96 55 81]\n",
      " [22 55 94 10 67]]\n"
     ]
    }
   ],
   "source": [
    "# random integer values array withing a specfic range \n",
    "c = np.random.randint(10,100,(3,5)) # np.random.randint ( , to specify the range the (value of the dimension)\n",
    "print(c)"
   ]
  },
  {
   "cell_type": "code",
   "execution_count": 19,
   "id": "f0ee5bb9-da51-4e10-a2fd-50a82313ea50",
   "metadata": {},
   "outputs": [
    {
     "name": "stdout",
     "output_type": "stream",
     "text": [
      "[10.         11.05263158 12.10526316 13.15789474 14.21052632 15.26315789\n",
      " 16.31578947 17.36842105 18.42105263 19.47368421 20.52631579 21.57894737\n",
      " 22.63157895 23.68421053 24.73684211 25.78947368 26.84210526 27.89473684\n",
      " 28.94736842 30.        ]\n"
     ]
    }
   ],
   "source": [
    "# array of evenly  spaced values like \n",
    "a = np.linspace(10,30,20) # with the gap of some range last (,,30) number of values you wants \n",
    "print(a)"
   ]
  },
  {
   "cell_type": "code",
   "execution_count": 20,
   "id": "2d06fdb4-8c32-45ef-bc02-4a53cef39b75",
   "metadata": {},
   "outputs": [
    {
     "name": "stdout",
     "output_type": "stream",
     "text": [
      "[10 15 20 25]\n"
     ]
    }
   ],
   "source": [
    "# array evenly spaced values like steps \n",
    "e = np.arange(10,30,5) # it will take the step of 5\n",
    "print(e)"
   ]
  },
  {
   "cell_type": "code",
   "execution_count": 21,
   "id": "40d5941e-cb9c-40b0-82fd-4989a4096111",
   "metadata": {},
   "outputs": [
    {
     "name": "stdout",
     "output_type": "stream",
     "text": [
      "<class 'list'>\n",
      "[ 5  4  9  7  8  5 42  1]\n"
     ]
    },
    {
     "data": {
      "text/plain": [
       "numpy.ndarray"
      ]
     },
     "execution_count": 21,
     "metadata": {},
     "output_type": "execute_result"
    }
   ],
   "source": [
    "# convert a list into numpy array \n",
    "list = [5,4,9,7,8,5,42,1]\n",
    "print(type(list))\n",
    "np_array = np.asarray(list)\n",
    "print(np_array)\n",
    "type(np_array)"
   ]
  },
  {
   "cell_type": "code",
   "execution_count": 22,
   "id": "4580ffbd-22ba-4c93-b391-7c2de04b8737",
   "metadata": {},
   "outputs": [
    {
     "name": "stdout",
     "output_type": "stream",
     "text": [
      "<class 'tuple'>\n",
      "[ 5  4  9  7  8  5 42  1]\n"
     ]
    },
    {
     "data": {
      "text/plain": [
       "numpy.ndarray"
      ]
     },
     "execution_count": 22,
     "metadata": {},
     "output_type": "execute_result"
    }
   ],
   "source": [
    "# convert a tuple into numpy array \n",
    "tuple = (5,4,9,7,8,5,42,1)\n",
    "print(type(tuple))\n",
    "np_array = np.asarray(tuple)\n",
    "print(np_array)\n",
    "type(np_array)"
   ]
  },
  {
   "cell_type": "markdown",
   "id": "77428efb-ac56-496f-adeb-8c3c7a5018ab",
   "metadata": {},
   "source": [
    "#### Analysing a numpy array \n",
    "Giving information about array"
   ]
  },
  {
   "cell_type": "code",
   "execution_count": 23,
   "id": "573ce77a-a1a2-478a-8e9f-69b9cae197ef",
   "metadata": {},
   "outputs": [
    {
     "name": "stdout",
     "output_type": "stream",
     "text": [
      "[[84 75 18 55 56 69]\n",
      " [28 45 56 21 14 84]\n",
      " [61 29 88 73 75 12]\n",
      " [25 59 48 21 32 32]\n",
      " [74 10 31 49 37 43]]\n"
     ]
    }
   ],
   "source": [
    "c = np.random.randint(10,90,(5,6))\n",
    "print(c)"
   ]
  },
  {
   "cell_type": "code",
   "execution_count": 24,
   "id": "4e16c9cd-6140-4ed6-9882-a94e773a9348",
   "metadata": {},
   "outputs": [
    {
     "name": "stdout",
     "output_type": "stream",
     "text": [
      "(5, 6)\n"
     ]
    }
   ],
   "source": [
    "# array dimensions \n",
    "print(c.shape)  # it is about number of row and columns about arrays "
   ]
  },
  {
   "cell_type": "code",
   "execution_count": 25,
   "id": "b3f41f6b-5e72-4392-b0a2-7c6f890c9e55",
   "metadata": {},
   "outputs": [
    {
     "name": "stdout",
     "output_type": "stream",
     "text": [
      "2\n"
     ]
    }
   ],
   "source": [
    "# number of dimensions \n",
    "print(c.ndim) \n"
   ]
  },
  {
   "cell_type": "code",
   "execution_count": 26,
   "id": "5c0d1694-e260-4534-8b53-982b009398e5",
   "metadata": {},
   "outputs": [
    {
     "name": "stdout",
     "output_type": "stream",
     "text": [
      "30\n"
     ]
    }
   ],
   "source": [
    "# checking number of elements present in the array \n",
    "print(c.size)\n"
   ]
  },
  {
   "cell_type": "code",
   "execution_count": 27,
   "id": "1c2e6ca8-8e0a-48ff-a429-ccff94f07cb9",
   "metadata": {},
   "outputs": [
    {
     "name": "stdout",
     "output_type": "stream",
     "text": [
      "int32\n"
     ]
    }
   ],
   "source": [
    "# checking the type of values present in the array\n",
    "print(c.dtype)"
   ]
  },
  {
   "cell_type": "markdown",
   "id": "897f9b6b-f009-4fbc-af2b-0e3650761dff",
   "metadata": {},
   "source": [
    "#### Mathematical Operations on numpy array"
   ]
  },
  {
   "cell_type": "code",
   "execution_count": 28,
   "id": "94807e09-5f58-4dad-8ffb-ea03123a1d87",
   "metadata": {},
   "outputs": [
    {
     "name": "stdout",
     "output_type": "stream",
     "text": [
      "[1, 2, 3, 4, 5, 6, 5, 6, 7, 8, 9, 1]\n"
     ]
    }
   ],
   "source": [
    "a = [1,2,3,4,5,6]\n",
    "b = [5,6,7,8,9,1] \n",
    "print(a+b)  # it is not adding it is merging this two lists or concat the list "
   ]
  },
  {
   "cell_type": "code",
   "execution_count": 31,
   "id": "b4dcf7e2-69c2-4283-87bd-ad42cd3e5c92",
   "metadata": {},
   "outputs": [
    {
     "name": "stdout",
     "output_type": "stream",
     "text": [
      "[ 6  8 10 12 14 16]\n"
     ]
    }
   ],
   "source": [
    "num1 = np.array([1,2,3,4,5,6])\n",
    "num2 = np.array([5,6,7,8,9,10])\n",
    "print(num1+num2) # it will add the array\n"
   ]
  },
  {
   "cell_type": "code",
   "execution_count": 32,
   "id": "90131255-2e75-4414-9663-1b0bbe34192c",
   "metadata": {},
   "outputs": [
    {
     "name": "stdout",
     "output_type": "stream",
     "text": [
      "[[4 1 9 3 3]\n",
      " [4 3 3 6 8]\n",
      " [1 2 6 4 4]\n",
      " [2 2 1 3 8]\n",
      " [7 8 8 3 5]]\n",
      "[[6 4 5 8 6]\n",
      " [1 5 2 7 1]\n",
      " [8 4 1 2 4]\n",
      " [4 5 5 4 4]\n",
      " [7 7 4 6 9]]\n",
      "[[10  5 14 11  9]\n",
      " [ 5  8  5 13  9]\n",
      " [ 9  6  7  6  8]\n",
      " [ 6  7  6  7 12]\n",
      " [14 15 12  9 14]]\n",
      "[[-2 -3  4 -5 -3]\n",
      " [ 3 -2  1 -1  7]\n",
      " [-7 -2  5  2  0]\n",
      " [-2 -3 -4 -1  4]\n",
      " [ 0  1  4 -3 -4]]\n",
      "[[24  4 45 24 18]\n",
      " [ 4 15  6 42  8]\n",
      " [ 8  8  6  8 16]\n",
      " [ 8 10  5 12 32]\n",
      " [49 56 32 18 45]]\n",
      "[[0.66666667 0.25       1.8        0.375      0.5       ]\n",
      " [4.         0.6        1.5        0.85714286 8.        ]\n",
      " [0.125      0.5        6.         2.         1.        ]\n",
      " [0.5        0.4        0.2        0.75       2.        ]\n",
      " [1.         1.14285714 2.         0.5        0.55555556]]\n"
     ]
    }
   ],
   "source": [
    "a = np.random.randint(1,10,(5,5))\n",
    "print(a)\n",
    "b = np.random.randint(1,10,(5,5))\n",
    "print(b)\n",
    "print(a+b)  \n",
    "print(a-b)\n",
    "print(a*b)\n",
    "print(a/b)"
   ]
  },
  {
   "cell_type": "code",
   "execution_count": 34,
   "id": "656d6720-b9f0-4c74-9867-843a8878f9c6",
   "metadata": {},
   "outputs": [
    {
     "name": "stdout",
     "output_type": "stream",
     "text": [
      "[[10  5 14 11  9]\n",
      " [ 5  8  5 13  9]\n",
      " [ 9  6  7  6  8]\n",
      " [ 6  7  6  7 12]\n",
      " [14 15 12  9 14]]\n",
      "[[-2 -3  4 -5 -3]\n",
      " [ 3 -2  1 -1  7]\n",
      " [-7 -2  5  2  0]\n",
      " [-2 -3 -4 -1  4]\n",
      " [ 0  1  4 -3 -4]]\n",
      "[[24  4 45 24 18]\n",
      " [ 4 15  6 42  8]\n",
      " [ 8  8  6  8 16]\n",
      " [ 8 10  5 12 32]\n",
      " [49 56 32 18 45]]\n",
      "[[0.66666667 0.25       1.8        0.375      0.5       ]\n",
      " [4.         0.6        1.5        0.85714286 8.        ]\n",
      " [0.125      0.5        6.         2.         1.        ]\n",
      " [0.5        0.4        0.2        0.75       2.        ]\n",
      " [1.         1.14285714 2.         0.5        0.55555556]]\n"
     ]
    }
   ],
   "source": [
    "# other way of doing arithmetic operations \n",
    "print(np.add(a,b))\n",
    "print(np.subtract(a,b))\n",
    "print(np.multiply(a,b))\n",
    "print(np.divide(a,b))"
   ]
  },
  {
   "cell_type": "markdown",
   "id": "4dfe0a6d-b8e3-499f-9166-37d28ff70c5f",
   "metadata": {},
   "source": [
    "#### Array Manipulation"
   ]
  },
  {
   "cell_type": "code",
   "execution_count": 35,
   "id": "2c8c3e6f-9822-46bf-86cd-65fccc1da670",
   "metadata": {},
   "outputs": [
    {
     "name": "stdout",
     "output_type": "stream",
     "text": [
      "[[4 1 1]\n",
      " [2 9 3]]\n",
      "(2, 3)\n"
     ]
    }
   ],
   "source": [
    "array = np.random.randint(0,10,(2,3))\n",
    "print(array)\n",
    "print(array.shape)"
   ]
  },
  {
   "cell_type": "code",
   "execution_count": 38,
   "id": "03fc8c89-5803-402f-8968-5c07e5b2315e",
   "metadata": {},
   "outputs": [
    {
     "name": "stdout",
     "output_type": "stream",
     "text": [
      "[[4 2]\n",
      " [1 9]\n",
      " [1 3]]\n",
      "(3, 2)\n"
     ]
    }
   ],
   "source": [
    "# transpose \n",
    "trans = np.transpose(array) # it will convert row into column and vice versa\n",
    "print(trans)\n",
    "print(trans.shape)"
   ]
  },
  {
   "cell_type": "code",
   "execution_count": 39,
   "id": "1eba5998-aa01-4ea9-af18-fb66debb7a60",
   "metadata": {},
   "outputs": [
    {
     "name": "stdout",
     "output_type": "stream",
     "text": [
      "[[4 6 0]\n",
      " [7 1 7]]\n",
      "(2, 3)\n"
     ]
    }
   ],
   "source": [
    "array = np.random.randint(0,10,(2,3))\n",
    "print(array)\n",
    "print(array.shape)"
   ]
  },
  {
   "cell_type": "code",
   "execution_count": 41,
   "id": "49434a05-63b2-4cd8-a961-288e977a3c7a",
   "metadata": {},
   "outputs": [
    {
     "name": "stdout",
     "output_type": "stream",
     "text": [
      "[[4 7]\n",
      " [6 1]\n",
      " [0 7]]\n",
      "(3, 2)\n"
     ]
    }
   ],
   "source": [
    "# other way of doing transpose \n",
    "trans2 = array.T  \n",
    "print(trans2)\n",
    "print(trans2.shape)"
   ]
  },
  {
   "cell_type": "code",
   "execution_count": 43,
   "id": "b2116ba7-badf-420f-8f62-b36bb0db5d64",
   "metadata": {
    "scrolled": true
   },
   "outputs": [
    {
     "name": "stdout",
     "output_type": "stream",
     "text": [
      "[[6 3 9]\n",
      " [5 3 0]]\n",
      "(2, 3)\n"
     ]
    }
   ],
   "source": [
    "# Reshape the array \n",
    "a = np.random.randint(0,10,(2,3))\n",
    "print(a)\n",
    "print(a.shape)"
   ]
  },
  {
   "cell_type": "code",
   "execution_count": 44,
   "id": "30b172c6-d6ed-433c-84bc-e4cb1e1b4552",
   "metadata": {},
   "outputs": [
    {
     "name": "stdout",
     "output_type": "stream",
     "text": [
      "[[6 3]\n",
      " [9 5]\n",
      " [3 0]]\n",
      "(3, 2)\n"
     ]
    }
   ],
   "source": [
    "b = a.reshape(3,2)\n",
    "print(b)\n",
    "print(b.shape)\n"
   ]
  },
  {
   "cell_type": "code",
   "execution_count": null,
   "id": "931645e4-3383-4641-b0be-2731748daf57",
   "metadata": {},
   "outputs": [],
   "source": []
  }
 ],
 "metadata": {
  "kernelspec": {
   "display_name": "Python 3 (ipykernel)",
   "language": "python",
   "name": "python3"
  },
  "language_info": {
   "codemirror_mode": {
    "name": "ipython",
    "version": 3
   },
   "file_extension": ".py",
   "mimetype": "text/x-python",
   "name": "python",
   "nbconvert_exporter": "python",
   "pygments_lexer": "ipython3",
   "version": "3.12.2"
  }
 },
 "nbformat": 4,
 "nbformat_minor": 5
}
