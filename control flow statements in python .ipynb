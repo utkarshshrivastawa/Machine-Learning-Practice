{
 "cells": [
  {
   "cell_type": "markdown",
   "id": "5522e4d2",
   "metadata": {},
   "source": [
    "### If else Statement in python  \n",
    "Conditional statement executing one block if true, another if false.\n",
    "\n",
    "1. If-else statement: Executes code based on a condition.\n",
    "2. Nested if-else statement: Conditional statement within another.\n",
    "3. Chained if-else statement: Multiple conditions checked sequentially."
   ]
  },
  {
   "cell_type": "markdown",
   "id": "6baaed72",
   "metadata": {},
   "source": [
    "##### If-else statement "
   ]
  },
  {
   "cell_type": "code",
   "execution_count": 1,
   "id": "d278c0cf",
   "metadata": {},
   "outputs": [
    {
     "name": "stdout",
     "output_type": "stream",
     "text": [
      "b is greatest number\n"
     ]
    }
   ],
   "source": [
    "a = 5\n",
    "b = 10 \n",
    "if (a<b):\n",
    "    print('b is greatest number')\n",
    "else : \n",
    "    print('a is greatest number')"
   ]
  },
  {
   "cell_type": "code",
   "execution_count": 2,
   "id": "1bd0168e",
   "metadata": {},
   "outputs": [
    {
     "name": "stdout",
     "output_type": "stream",
     "text": [
      "Enter the first number : 50\n",
      "Enter the second number : 2\n",
      "a is greatest number\n"
     ]
    }
   ],
   "source": [
    "a = int(input(\"Enter the first number : \"))\n",
    "b = int(input(\"Enter the second number : \")) \n",
    "if (a<b):\n",
    "    print('b is greatest number')\n",
    "else : \n",
    "    print('a is greatest number')"
   ]
  },
  {
   "cell_type": "markdown",
   "id": "27bda454",
   "metadata": {},
   "source": [
    "##### Nested if-else statement"
   ]
  },
  {
   "cell_type": "code",
   "execution_count": 4,
   "id": "50ace721",
   "metadata": {},
   "outputs": [
    {
     "name": "stdout",
     "output_type": "stream",
     "text": [
      "b is smallest\n"
     ]
    }
   ],
   "source": [
    "a = 30 \n",
    "b = 20 \n",
    "c = 40 \n",
    "if a<=b :\n",
    "    if c<=a:\n",
    "        print(\"c is smallest\")\n",
    "    else :\n",
    "        print(\"a is smallest\")\n",
    "else : \n",
    "    print(\"b is smallest\")"
   ]
  },
  {
   "cell_type": "markdown",
   "id": "4e5933ff",
   "metadata": {},
   "source": [
    "##### Chained if-else statement"
   ]
  },
  {
   "cell_type": "code",
   "execution_count": 5,
   "id": "7faa1e87",
   "metadata": {},
   "outputs": [
    {
     "name": "stdout",
     "output_type": "stream",
     "text": [
      "b is smallest\n"
     ]
    }
   ],
   "source": [
    "a = 30 \n",
    "b = 20 \n",
    "c = 40 \n",
    "if a<b:\n",
    "    print('a is smallest')\n",
    "elif b<c:\n",
    "    print('b is smallest')\n",
    "else :\n",
    "    print('c is smallest')"
   ]
  },
  {
   "cell_type": "markdown",
   "id": "f54152f8",
   "metadata": {},
   "source": [
    "### For Loop\n",
    "Iterates over a sequence, executing code repeatedly."
   ]
  },
  {
   "cell_type": "code",
   "execution_count": 4,
   "id": "2ab8cb34",
   "metadata": {},
   "outputs": [
    {
     "name": "stdout",
     "output_type": "stream",
     "text": [
      "enter the price of laptop : 800000\n",
      "enter the price of laptop : 65000\n",
      "enter the price of laptop : 125000\n",
      "enter the price of laptop : 265000\n",
      "enter the price of laptop : 654987\n"
     ]
    }
   ],
   "source": [
    "for i in range(5):  # index 0,1,2,3,4\n",
    "    print = int(input(\"enter the price of laptop : \"))"
   ]
  },
  {
   "cell_type": "code",
   "execution_count": 13,
   "id": "d1965771",
   "metadata": {},
   "outputs": [],
   "source": [
    "import builtins # if error occured TypeError: 'int' object is not callable\n",
    "print = builtins.print\n"
   ]
  },
  {
   "cell_type": "code",
   "execution_count": 14,
   "id": "102d7a8e",
   "metadata": {},
   "outputs": [
    {
     "name": "stdout",
     "output_type": "stream",
     "text": [
      "1\n",
      "2\n",
      "3\n",
      "45\n",
      "6\n",
      "7\n",
      "8\n"
     ]
    }
   ],
   "source": [
    "a = [1, 2, 3, 45, 6, 7, 8]\n",
    "for i in a:\n",
    "    print(i)\n"
   ]
  },
  {
   "cell_type": "code",
   "execution_count": 19,
   "id": "5cde3254",
   "metadata": {},
   "outputs": [
    {
     "name": "stdout",
     "output_type": "stream",
     "text": [
      "Enter diamond's height: 8\n",
      "         *\n",
      "        ***\n",
      "       *****\n",
      "      *******\n",
      "     *********\n",
      "    ***********\n",
      "   *************\n",
      "  ***************\n",
      "   *************\n",
      "    ***********\n",
      "     *********\n",
      "      *******\n",
      "       *****\n",
      "        ***\n",
      "         *\n"
     ]
    }
   ],
   "source": [
    "h = eval(input(\"Enter diamond's height: \"))\n",
    "for x in range(h):\n",
    "    print(\" \" * (h - x), \"*\" * (2*x + 1))\n",
    "for x in range(h - 2, -1, -1):\n",
    "    print(\" \" * (h - x), \"*\" * (2*x + 1))"
   ]
  },
  {
   "cell_type": "code",
   "execution_count": 20,
   "id": "25bb4bde",
   "metadata": {},
   "outputs": [
    {
     "name": "stdout",
     "output_type": "stream",
     "text": [
      "Enter diamond's height: 8\n",
      "         *\n",
      "        ***\n",
      "       *****\n",
      "      *******\n",
      "     *********\n",
      "    ***********\n",
      "   *************\n",
      "  ***************\n"
     ]
    }
   ],
   "source": [
    "h = eval(input(\"Enter diamond's height: \"))\n",
    "for x in range(h):\n",
    "    print(\" \" * (h - x), \"*\" * (2*x + 1))"
   ]
  },
  {
   "cell_type": "code",
   "execution_count": 21,
   "id": "7887b849",
   "metadata": {},
   "outputs": [
    {
     "name": "stdout",
     "output_type": "stream",
     "text": [
      "\n",
      "1 \n",
      "2 2 \n",
      "3 3 3 \n",
      "4 4 4 4 \n",
      "5 5 5 5 5 \n"
     ]
    }
   ],
   "source": [
    "rows = 6\n",
    "# if you want user to enter a number, uncomment the below line\n",
    "# rows = int(input('Enter the number of rows'))\n",
    "# outer loop\n",
    "for i in range(rows):\n",
    "    # nested loop\n",
    "    for j in range(i):\n",
    "        # display number\n",
    "        print(i, end=' ')\n",
    "    # new line after each row\n",
    "    print('')"
   ]
  },
  {
   "cell_type": "code",
   "execution_count": 22,
   "id": "b6e6eff9",
   "metadata": {},
   "outputs": [
    {
     "name": "stdout",
     "output_type": "stream",
     "text": [
      "5 5 5 5 5 \r\n",
      "4 4 4 4 \r\n",
      "3 3 3 \r\n",
      "2 2 \r\n",
      "1 \r\n"
     ]
    }
   ],
   "source": [
    "rows = 5\n",
    "# reverse loop\n",
    "for i in range(rows, 0, -1):\n",
    "    num = i\n",
    "    for j in range(0, i):\n",
    "        print(num, end=' ')\n",
    "    print(\"\\r\")"
   ]
  },
  {
   "cell_type": "code",
   "execution_count": 24,
   "id": "76b34d8c",
   "metadata": {},
   "outputs": [
    {
     "name": "stdout",
     "output_type": "stream",
     "text": [
      "1 \n",
      "2 1 \n",
      "3 2 1 \n",
      "4 3 2 1 \n",
      "5 4 3 2 1 \n"
     ]
    }
   ],
   "source": [
    "rows = 6\n",
    "for i in range(1, rows):\n",
    "    for j in range(i, 0, -1):\n",
    "        print(j, end=' ')\n",
    "    print(\"\")"
   ]
  },
  {
   "cell_type": "code",
   "execution_count": 25,
   "id": "ebd5d8c8",
   "metadata": {},
   "outputs": [
    {
     "name": "stdout",
     "output_type": "stream",
     "text": [
      "* \r\n",
      "* * \r\n",
      "* * * \r\n",
      "* * * * \r\n",
      "* * * * * \r\n"
     ]
    }
   ],
   "source": [
    "# number of rows\n",
    "rows = 5\n",
    "for i in range(0, rows):\n",
    "    # nested loop for each column\n",
    "    for j in range(0, i + 1):\n",
    "        # print star\n",
    "        print(\"*\", end=' ')\n",
    "    # new line after each row\n",
    "    print(\"\\r\")"
   ]
  },
  {
   "cell_type": "code",
   "execution_count": 26,
   "id": "9dc7c0ff",
   "metadata": {},
   "outputs": [
    {
     "name": "stdout",
     "output_type": "stream",
     "text": [
      "Enter the number of which the user wants to print the multiplication table: 5\n",
      "The Multiplication Table of:  5\n",
      "5 x 1 = 5\n",
      "5 x 2 = 10\n",
      "5 x 3 = 15\n",
      "5 x 4 = 20\n",
      "5 x 5 = 25\n",
      "5 x 6 = 30\n",
      "5 x 7 = 35\n",
      "5 x 8 = 40\n",
      "5 x 9 = 45\n",
      "5 x 10 = 50\n"
     ]
    }
   ],
   "source": [
    "number = int(input (\"Enter the number of which the you wants to print the multiplication table: \"))      \n",
    "# We are using \"for loop\" to iterate the multiplication 10 times       \n",
    "print (\"The Multiplication Table of: \", number)    \n",
    "for count in range(1, 11):      \n",
    "   print (number, 'x', count, '=', number * count)   "
   ]
  },
  {
   "cell_type": "markdown",
   "id": "a3dbdcb8",
   "metadata": {},
   "source": [
    "#### While Loop \n",
    "A while loop repeatedly executes code as long as a condition is true."
   ]
  },
  {
   "cell_type": "code",
   "execution_count": 18,
   "id": "6587c33a",
   "metadata": {},
   "outputs": [
    {
     "name": "stdout",
     "output_type": "stream",
     "text": [
      "10\n",
      "9\n",
      "8\n",
      "7\n",
      "6\n",
      "5\n",
      "4\n",
      "3\n",
      "2\n",
      "1\n",
      "0\n"
     ]
    }
   ],
   "source": [
    "i = 10 \n",
    "while i >= 0:\n",
    "    print(i)\n",
    "    i-=1"
   ]
  },
  {
   "cell_type": "code",
   "execution_count": 27,
   "id": "78824a23",
   "metadata": {},
   "outputs": [
    {
     "name": "stdout",
     "output_type": "stream",
     "text": [
      "Enter the number of which the user wants to print the multiplication table: 10\n",
      "The Multiplication Table of:  10\n",
      "10 x 4 = 10\n",
      "10 x 4 = 20\n",
      "10 x 4 = 30\n",
      "10 x 4 = 40\n",
      "10 x 4 = 50\n",
      "10 x 4 = 60\n",
      "10 x 4 = 70\n",
      "10 x 4 = 80\n",
      "10 x 4 = 90\n",
      "10 x 4 = 100\n"
     ]
    }
   ],
   "source": [
    "number = int(input (\"Enter the number of which you wants to print the multiplication table: \"))      \n",
    "count = 1    \n",
    "# we are using while loop for iterating the multiplication 10 times      \n",
    "print (\"The Multiplication Table of: \", number)    \n",
    "while count <= 10:    \n",
    "    number = number * 1    \n",
    "    print (number, 'x', i, '=', number * count)    \n",
    "    count += 1   "
   ]
  },
  {
   "cell_type": "code",
   "execution_count": null,
   "id": "dacfdd0e",
   "metadata": {},
   "outputs": [],
   "source": [
    "# if condition is not true in while loop then\n",
    "i = 5\n",
    "while i<3:\n",
    "    print(i)\n",
    "    i+=1"
   ]
  },
  {
   "cell_type": "code",
   "execution_count": null,
   "id": "986e11e4",
   "metadata": {},
   "outputs": [],
   "source": [
    "a = 1\n",
    "a"
   ]
  },
  {
   "cell_type": "code",
   "execution_count": null,
   "id": "72bed346",
   "metadata": {},
   "outputs": [],
   "source": []
  }
 ],
 "metadata": {
  "kernelspec": {
   "display_name": "Python 3 (ipykernel)",
   "language": "python",
   "name": "python3"
  },
  "language_info": {
   "codemirror_mode": {
    "name": "ipython",
    "version": 3
   },
   "file_extension": ".py",
   "mimetype": "text/x-python",
   "name": "python",
   "nbconvert_exporter": "python",
   "pygments_lexer": "ipython3",
   "version": "3.11.5"
  }
 },
 "nbformat": 4,
 "nbformat_minor": 5
}
